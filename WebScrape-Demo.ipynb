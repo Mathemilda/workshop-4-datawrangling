{
 "cells": [
  {
   "cell_type": "markdown",
   "metadata": {},
   "source": [
    "# Scrape Demo"
   ]
  },
  {
   "cell_type": "code",
   "execution_count": 1,
   "metadata": {
    "collapsed": true
   },
   "outputs": [],
   "source": [
    "# Imports\n",
    "import requests\n",
    "from bs4 import BeautifulSoup"
   ]
  },
  {
   "cell_type": "code",
   "execution_count": 2,
   "metadata": {},
   "outputs": [],
   "source": [
    "# Set a link to query from\n",
    "wiki = 'https://en.wikipedia.org/wiki/List_of_U.S._states_and_territories_by_population'"
   ]
  },
  {
   "cell_type": "code",
   "execution_count": 3,
   "metadata": {
    "collapsed": true
   },
   "outputs": [],
   "source": [
    "# Request the page\n",
    "#   To open a URL you can use 'requests.get' as shown in the cell above. Call this variable 'page'\n",
    "page = requests.get(wiki)"
   ]
  },
  {
   "cell_type": "code",
   "execution_count": 4,
   "metadata": {
    "collapsed": true
   },
   "outputs": [],
   "source": [
    "# Parse the page, with BeautifulSoup\n",
    "soup = BeautifulSoup(page.content, 'html.parser')"
   ]
  },
  {
   "cell_type": "code",
   "execution_count": 5,
   "metadata": {},
   "outputs": [
    {
     "name": "stdout",
     "output_type": "stream",
     "text": [
      "List of states and territories of the United States by population - Wikipedia\n"
     ]
    }
   ],
   "source": [
    "# Get the title of the page\n",
    "title_page = soup.title.string\n",
    "print(title_page)"
   ]
  },
  {
   "cell_type": "code",
   "execution_count": 6,
   "metadata": {
    "collapsed": true
   },
   "outputs": [],
   "source": [
    "# Get the first of an element type\n",
    "first_table = soup.find('table')"
   ]
  },
  {
   "cell_type": "code",
   "execution_count": 7,
   "metadata": {
    "collapsed": true
   },
   "outputs": [],
   "source": [
    "# Get all of an element type\n",
    "all_tables = soup.find_all('table')"
   ]
  },
  {
   "cell_type": "code",
   "execution_count": 8,
   "metadata": {},
   "outputs": [],
   "source": [
    "# Select a particular class of an element type\n",
    "wikitable = soup.select_one('table.wikitable')"
   ]
  },
  {
   "cell_type": "code",
   "execution_count": 9,
   "metadata": {
    "scrolled": false
   },
   "outputs": [],
   "source": [
    "populations = {}\n",
    "\n",
    "for row in wikitable('tr'):\n",
    "    \n",
    "    cells = row.find_all('td')\n",
    "\n",
    "    # Skips rows that aren't 10 columns long (like the heading)\n",
    "    if len(cells) != 11:\n",
    "         continue\n",
    "    \n",
    "    state = cells[2].text\n",
    "    pop = cells[3].text\n",
    "\n",
    "    populations[state] = pop"
   ]
  },
  {
   "cell_type": "code",
   "execution_count": 10,
   "metadata": {},
   "outputs": [
    {
     "data": {
      "text/plain": [
       "{'Bajo Nuevo Bank\\n': '0\\n',\n",
       " 'Contiguous United States\\n': '323,551,845\\n',\n",
       " 'Fifty states + D.C.\\n': '325,719,178\\n',\n",
       " 'Navassa Island\\n': '0\\n',\n",
       " 'Serranilla Bank\\n': '0\\n',\n",
       " 'The fifty states\\n': '325,025,206\\n',\n",
       " 'Total U.S. (including D.C. and territories)\\n': '329,431,520\\n',\n",
       " '\\xa0Alabama\\n': '4,874,747\\n',\n",
       " '\\xa0Alaska\\n': '739,795\\n',\n",
       " '\\xa0American Samoa\\n': '55,641[9]\\n',\n",
       " '\\xa0Arizona\\n': '7,016,270\\n',\n",
       " '\\xa0Arkansas\\n': '3,004,279\\n',\n",
       " '\\xa0Baker Island\\n': '0\\n',\n",
       " '\\xa0California\\n': '39,536,653\\n',\n",
       " '\\xa0Colorado\\n': '5,607,154\\n',\n",
       " '\\xa0Connecticut\\n': '3,588,184\\n',\n",
       " '\\xa0Delaware\\n': '961,939\\n',\n",
       " '\\xa0District of Columbia\\n': '693,972\\n',\n",
       " '\\xa0Florida\\n': '20,984,400\\n',\n",
       " '\\xa0Georgia\\n': '10,429,379\\n',\n",
       " '\\xa0Guam\\n': '165,718[5]\\n',\n",
       " '\\xa0Hawaii\\n': '1,427,538\\n',\n",
       " '\\xa0Howland Island\\n': '0\\n',\n",
       " '\\xa0Idaho\\n': '1,716,943\\n',\n",
       " '\\xa0Illinois\\n': '12,802,023\\n',\n",
       " '\\xa0Indiana\\n': '6,666,818\\n',\n",
       " '\\xa0Iowa\\n': '3,145,711\\n',\n",
       " '\\xa0Jarvis Island\\n': '0\\n',\n",
       " '\\xa0Johnston Atoll\\n': '0\\n',\n",
       " '\\xa0Kansas\\n': '2,913,123\\n',\n",
       " '\\xa0Kentucky\\n': '4,454,189\\n',\n",
       " '\\xa0Kingman Reef\\n': '0\\n',\n",
       " '\\xa0Louisiana\\n': '4,684,333\\n',\n",
       " '\\xa0Maine\\n': '1,335,907\\n',\n",
       " '\\xa0Maryland\\n': '6,052,177\\n',\n",
       " '\\xa0Massachusetts\\n': '6,859,819\\n',\n",
       " '\\xa0Michigan\\n': '9,962,311\\n',\n",
       " '\\xa0Midway Atoll\\n': '40\\n',\n",
       " '\\xa0Minnesota\\n': '5,576,606\\n',\n",
       " '\\xa0Mississippi\\n': '2,984,100\\n',\n",
       " '\\xa0Missouri\\n': '6,113,532\\n',\n",
       " '\\xa0Montana\\n': '1,050,493\\n',\n",
       " '\\xa0Nebraska\\n': '1,920,076\\n',\n",
       " '\\xa0Nevada\\n': '2,998,039\\n',\n",
       " '\\xa0New Hampshire\\n': '1,342,795\\n',\n",
       " '\\xa0New Jersey\\n': '9,005,644\\n',\n",
       " '\\xa0New Mexico\\n': '2,088,070\\n',\n",
       " '\\xa0New York\\n': '19,849,399\\n',\n",
       " '\\xa0North Carolina\\n': '10,273,419\\n',\n",
       " '\\xa0Northern Mariana Islands\\n': '55,194[11]\\n',\n",
       " '\\xa0Ohio\\n': '11,658,609\\n',\n",
       " '\\xa0Oklahoma\\n': '3,930,864\\n',\n",
       " '\\xa0Oregon\\n': '4,142,776\\n',\n",
       " '\\xa0Palmyra Atoll\\n': '20\\n',\n",
       " '\\xa0Pennsylvania\\n': '12,805,537\\n',\n",
       " '\\xa0Puerto Rico\\n': '3,337,177\\n',\n",
       " '\\xa0Rhode Island\\n': '1,059,639\\n',\n",
       " '\\xa0South Carolina\\n': '5,024,369\\n',\n",
       " '\\xa0South Dakota\\n': '869,666\\n',\n",
       " '\\xa0Tennessee\\n': '6,715,984\\n',\n",
       " '\\xa0Texas\\n': '28,304,596\\n',\n",
       " '\\xa0U.S. Virgin Islands\\n': '104,914[7]\\n',\n",
       " '\\xa0Utah\\n': '3,101,833\\n',\n",
       " '\\xa0Vermont\\n': '623,657\\n',\n",
       " '\\xa0Virginia\\n': '8,470,020\\n',\n",
       " '\\xa0Wake Island\\n': '100\\n',\n",
       " '\\xa0Washington\\n': '7,405,743\\n',\n",
       " '\\xa0West Virginia\\n': '1,815,857\\n',\n",
       " '\\xa0Wisconsin\\n': '5,795,483\\n',\n",
       " '\\xa0Wyoming\\n': '579,315\\n',\n",
       " '\\xa0\\xa0North Dakota\\n': '755,393\\n'}"
      ]
     },
     "execution_count": 10,
     "metadata": {},
     "output_type": "execute_result"
    }
   ],
   "source": [
    "populations"
   ]
  }
 ],
 "metadata": {
  "kernelspec": {
   "display_name": "Python [conda root]",
   "language": "python",
   "name": "conda-root-py"
  },
  "language_info": {
   "codemirror_mode": {
    "name": "ipython",
    "version": 3
   },
   "file_extension": ".py",
   "mimetype": "text/x-python",
   "name": "python",
   "nbconvert_exporter": "python",
   "pygments_lexer": "ipython3",
   "version": "3.6.3"
  }
 },
 "nbformat": 4,
 "nbformat_minor": 2
}
